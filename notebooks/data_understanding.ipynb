{
 "cells": [
  {
   "cell_type": "code",
   "id": "initial_id",
   "metadata": {
    "collapsed": true,
    "ExecuteTime": {
     "end_time": "2024-06-21T08:30:42.695022Z",
     "start_time": "2024-06-21T08:30:42.502678Z"
    }
   },
   "source": [
    "import pandas as pd\n",
    "from datetime import datetime"
   ],
   "outputs": [],
   "execution_count": 1
  },
  {
   "metadata": {},
   "cell_type": "markdown",
   "source": "### Load the dataset",
   "id": "261ba9e0ae1e0aae"
  },
  {
   "cell_type": "code",
   "source": [
    "# read the dataset\n",
    "df = pd.read_csv('../data/raw_csv.csv')\n",
    "df.head()"
   ],
   "metadata": {
    "collapsed": false,
    "ExecuteTime": {
     "end_time": "2024-06-21T08:30:46.256792Z",
     "start_time": "2024-06-21T08:30:42.695903Z"
    }
   },
   "id": "220d696c6f9277a0",
   "outputs": [
    {
     "data": {
      "text/plain": [
       "                 id    storeId                       storeName  \\\n",
       "0  1005002508947205  900250272           IDEACH Official Store   \n",
       "1  1005004546160959    5379102  Factory Direct Collected Store   \n",
       "2  1005004967489874  911794975           HOMDD Specialty Store   \n",
       "3  1005003601452827  912652146            XINGHUO ONLINE Store   \n",
       "4       33022569739    4991203             ABIR Official Store   \n",
       "\n",
       "                                               title  rating  \\\n",
       "0  Wireless Handheld Vacuum Cleaner 10kPa 150W Po...     4.8   \n",
       "1  Portable Water Drop Humidifier USB Desktop Ind...     4.8   \n",
       "2  Portable Desktop Instant Automatic Multi-Speed...     0.0   \n",
       "3  Portable 420ml Air Humidifier Aroma Oil Humidi...     4.7   \n",
       "4  ABIR X6 Robot Vacuum Cleaner  Visual Navigatio...     4.7   \n",
       "\n",
       "             lunchTime  category  postCategory       sold   price  discount  \\\n",
       "0  2021-04-19 00:00:00       NaN           608  1487 sold  464.16        76   \n",
       "1  2022-07-19 00:00:00       NaN           625  5348 sold   22.28        54   \n",
       "2  2022-11-17 00:00:00       NaN           610     1 sold  251.76        25   \n",
       "3  2021-11-24 00:00:00       NaN           625  2979 sold    8.95        84   \n",
       "4  2019-05-24 00:00:00       NaN           608  2103 sold  775.35        59   \n",
       "\n",
       "   shippingCost                                           imageUrl  \\\n",
       "0           0.0  //ae01.alicdn.com/kf/S29307438fb224285b2981d71...   \n",
       "1           0.0  //ae01.alicdn.com/kf/S8d4807ce10bd4152850ec872...   \n",
       "2           0.0  //ae01.alicdn.com/kf/Sdae1fa83cf1a482397b6e061...   \n",
       "3           0.0  //ae01.alicdn.com/kf/Se200f7a404974c87b5941587...   \n",
       "4           0.0  //ae01.alicdn.com/kf/Scfe6fa94f0644aaabff79c0f...   \n",
       "\n",
       "                               storeUrl    category_name  category_id     type  \n",
       "0  //www.aliexpress.com/store/900250272  home-appliances            6  natural  \n",
       "1    //www.aliexpress.com/store/5379102  home-appliances            6  natural  \n",
       "2  //www.aliexpress.com/store/911794975  home-appliances            6  natural  \n",
       "3  //www.aliexpress.com/store/912652146  home-appliances            6  natural  \n",
       "4    //www.aliexpress.com/store/4991203  home-appliances            6       ad  "
      ],
      "text/html": [
       "<div>\n",
       "<style scoped>\n",
       "    .dataframe tbody tr th:only-of-type {\n",
       "        vertical-align: middle;\n",
       "    }\n",
       "\n",
       "    .dataframe tbody tr th {\n",
       "        vertical-align: top;\n",
       "    }\n",
       "\n",
       "    .dataframe thead th {\n",
       "        text-align: right;\n",
       "    }\n",
       "</style>\n",
       "<table border=\"1\" class=\"dataframe\">\n",
       "  <thead>\n",
       "    <tr style=\"text-align: right;\">\n",
       "      <th></th>\n",
       "      <th>id</th>\n",
       "      <th>storeId</th>\n",
       "      <th>storeName</th>\n",
       "      <th>title</th>\n",
       "      <th>rating</th>\n",
       "      <th>lunchTime</th>\n",
       "      <th>category</th>\n",
       "      <th>postCategory</th>\n",
       "      <th>sold</th>\n",
       "      <th>price</th>\n",
       "      <th>discount</th>\n",
       "      <th>shippingCost</th>\n",
       "      <th>imageUrl</th>\n",
       "      <th>storeUrl</th>\n",
       "      <th>category_name</th>\n",
       "      <th>category_id</th>\n",
       "      <th>type</th>\n",
       "    </tr>\n",
       "  </thead>\n",
       "  <tbody>\n",
       "    <tr>\n",
       "      <th>0</th>\n",
       "      <td>1005002508947205</td>\n",
       "      <td>900250272</td>\n",
       "      <td>IDEACH Official Store</td>\n",
       "      <td>Wireless Handheld Vacuum Cleaner 10kPa 150W Po...</td>\n",
       "      <td>4.8</td>\n",
       "      <td>2021-04-19 00:00:00</td>\n",
       "      <td>NaN</td>\n",
       "      <td>608</td>\n",
       "      <td>1487 sold</td>\n",
       "      <td>464.16</td>\n",
       "      <td>76</td>\n",
       "      <td>0.0</td>\n",
       "      <td>//ae01.alicdn.com/kf/S29307438fb224285b2981d71...</td>\n",
       "      <td>//www.aliexpress.com/store/900250272</td>\n",
       "      <td>home-appliances</td>\n",
       "      <td>6</td>\n",
       "      <td>natural</td>\n",
       "    </tr>\n",
       "    <tr>\n",
       "      <th>1</th>\n",
       "      <td>1005004546160959</td>\n",
       "      <td>5379102</td>\n",
       "      <td>Factory Direct Collected Store</td>\n",
       "      <td>Portable Water Drop Humidifier USB Desktop Ind...</td>\n",
       "      <td>4.8</td>\n",
       "      <td>2022-07-19 00:00:00</td>\n",
       "      <td>NaN</td>\n",
       "      <td>625</td>\n",
       "      <td>5348 sold</td>\n",
       "      <td>22.28</td>\n",
       "      <td>54</td>\n",
       "      <td>0.0</td>\n",
       "      <td>//ae01.alicdn.com/kf/S8d4807ce10bd4152850ec872...</td>\n",
       "      <td>//www.aliexpress.com/store/5379102</td>\n",
       "      <td>home-appliances</td>\n",
       "      <td>6</td>\n",
       "      <td>natural</td>\n",
       "    </tr>\n",
       "    <tr>\n",
       "      <th>2</th>\n",
       "      <td>1005004967489874</td>\n",
       "      <td>911794975</td>\n",
       "      <td>HOMDD Specialty Store</td>\n",
       "      <td>Portable Desktop Instant Automatic Multi-Speed...</td>\n",
       "      <td>0.0</td>\n",
       "      <td>2022-11-17 00:00:00</td>\n",
       "      <td>NaN</td>\n",
       "      <td>610</td>\n",
       "      <td>1 sold</td>\n",
       "      <td>251.76</td>\n",
       "      <td>25</td>\n",
       "      <td>0.0</td>\n",
       "      <td>//ae01.alicdn.com/kf/Sdae1fa83cf1a482397b6e061...</td>\n",
       "      <td>//www.aliexpress.com/store/911794975</td>\n",
       "      <td>home-appliances</td>\n",
       "      <td>6</td>\n",
       "      <td>natural</td>\n",
       "    </tr>\n",
       "    <tr>\n",
       "      <th>3</th>\n",
       "      <td>1005003601452827</td>\n",
       "      <td>912652146</td>\n",
       "      <td>XINGHUO ONLINE Store</td>\n",
       "      <td>Portable 420ml Air Humidifier Aroma Oil Humidi...</td>\n",
       "      <td>4.7</td>\n",
       "      <td>2021-11-24 00:00:00</td>\n",
       "      <td>NaN</td>\n",
       "      <td>625</td>\n",
       "      <td>2979 sold</td>\n",
       "      <td>8.95</td>\n",
       "      <td>84</td>\n",
       "      <td>0.0</td>\n",
       "      <td>//ae01.alicdn.com/kf/Se200f7a404974c87b5941587...</td>\n",
       "      <td>//www.aliexpress.com/store/912652146</td>\n",
       "      <td>home-appliances</td>\n",
       "      <td>6</td>\n",
       "      <td>natural</td>\n",
       "    </tr>\n",
       "    <tr>\n",
       "      <th>4</th>\n",
       "      <td>33022569739</td>\n",
       "      <td>4991203</td>\n",
       "      <td>ABIR Official Store</td>\n",
       "      <td>ABIR X6 Robot Vacuum Cleaner  Visual Navigatio...</td>\n",
       "      <td>4.7</td>\n",
       "      <td>2019-05-24 00:00:00</td>\n",
       "      <td>NaN</td>\n",
       "      <td>608</td>\n",
       "      <td>2103 sold</td>\n",
       "      <td>775.35</td>\n",
       "      <td>59</td>\n",
       "      <td>0.0</td>\n",
       "      <td>//ae01.alicdn.com/kf/Scfe6fa94f0644aaabff79c0f...</td>\n",
       "      <td>//www.aliexpress.com/store/4991203</td>\n",
       "      <td>home-appliances</td>\n",
       "      <td>6</td>\n",
       "      <td>ad</td>\n",
       "    </tr>\n",
       "  </tbody>\n",
       "</table>\n",
       "</div>"
      ]
     },
     "execution_count": 2,
     "metadata": {},
     "output_type": "execute_result"
    }
   ],
   "execution_count": 2
  },
  {
   "metadata": {},
   "cell_type": "markdown",
   "source": "## Clean data",
   "id": "d6693f6ca57b787d"
  },
  {
   "cell_type": "code",
   "source": [
    "# get a count of nan values\n",
    "nan_counts = df.isna().sum()\n",
    "print(nan_counts)"
   ],
   "metadata": {
    "collapsed": false,
    "ExecuteTime": {
     "end_time": "2024-06-21T08:30:46.468994Z",
     "start_time": "2024-06-21T08:30:46.257527Z"
    }
   },
   "id": "26d27211359f22cc",
   "outputs": [
    {
     "name": "stdout",
     "output_type": "stream",
     "text": [
      "id                    0\n",
      "storeId               0\n",
      "storeName             0\n",
      "title                 0\n",
      "rating                0\n",
      "lunchTime             0\n",
      "category         864270\n",
      "postCategory          0\n",
      "sold                  0\n",
      "price                 0\n",
      "discount              0\n",
      "shippingCost      66198\n",
      "imageUrl              0\n",
      "storeUrl              0\n",
      "category_name         0\n",
      "category_id           0\n",
      "type                  0\n",
      "dtype: int64\n"
     ]
    }
   ],
   "execution_count": 3
  },
  {
   "cell_type": "markdown",
   "source": [
    "#### Remove unnecessary columns\n",
    "If we look at the table above we will see that we need to remove 'category' feature because it has only NaN values. We also need to remove Url-related features because they give no useful data for us. The id is a unique number for each instance of the table, so we are going to remove it as well"
   ],
   "metadata": {
    "collapsed": false
   },
   "id": "ca1ca321f5eb635b"
  },
  {
   "cell_type": "code",
   "source": [
    "df = df.drop(columns=['category','imageUrl','storeUrl', 'id'])\n",
    "df.head()"
   ],
   "metadata": {
    "collapsed": false,
    "ExecuteTime": {
     "end_time": "2024-06-21T08:30:46.519457Z",
     "start_time": "2024-06-21T08:30:46.469664Z"
    }
   },
   "id": "d6d9bbb96f1a38ba",
   "outputs": [
    {
     "data": {
      "text/plain": [
       "     storeId                       storeName  \\\n",
       "0  900250272           IDEACH Official Store   \n",
       "1    5379102  Factory Direct Collected Store   \n",
       "2  911794975           HOMDD Specialty Store   \n",
       "3  912652146            XINGHUO ONLINE Store   \n",
       "4    4991203             ABIR Official Store   \n",
       "\n",
       "                                               title  rating  \\\n",
       "0  Wireless Handheld Vacuum Cleaner 10kPa 150W Po...     4.8   \n",
       "1  Portable Water Drop Humidifier USB Desktop Ind...     4.8   \n",
       "2  Portable Desktop Instant Automatic Multi-Speed...     0.0   \n",
       "3  Portable 420ml Air Humidifier Aroma Oil Humidi...     4.7   \n",
       "4  ABIR X6 Robot Vacuum Cleaner  Visual Navigatio...     4.7   \n",
       "\n",
       "             lunchTime  postCategory       sold   price  discount  \\\n",
       "0  2021-04-19 00:00:00           608  1487 sold  464.16        76   \n",
       "1  2022-07-19 00:00:00           625  5348 sold   22.28        54   \n",
       "2  2022-11-17 00:00:00           610     1 sold  251.76        25   \n",
       "3  2021-11-24 00:00:00           625  2979 sold    8.95        84   \n",
       "4  2019-05-24 00:00:00           608  2103 sold  775.35        59   \n",
       "\n",
       "   shippingCost    category_name  category_id     type  \n",
       "0           0.0  home-appliances            6  natural  \n",
       "1           0.0  home-appliances            6  natural  \n",
       "2           0.0  home-appliances            6  natural  \n",
       "3           0.0  home-appliances            6  natural  \n",
       "4           0.0  home-appliances            6       ad  "
      ],
      "text/html": [
       "<div>\n",
       "<style scoped>\n",
       "    .dataframe tbody tr th:only-of-type {\n",
       "        vertical-align: middle;\n",
       "    }\n",
       "\n",
       "    .dataframe tbody tr th {\n",
       "        vertical-align: top;\n",
       "    }\n",
       "\n",
       "    .dataframe thead th {\n",
       "        text-align: right;\n",
       "    }\n",
       "</style>\n",
       "<table border=\"1\" class=\"dataframe\">\n",
       "  <thead>\n",
       "    <tr style=\"text-align: right;\">\n",
       "      <th></th>\n",
       "      <th>storeId</th>\n",
       "      <th>storeName</th>\n",
       "      <th>title</th>\n",
       "      <th>rating</th>\n",
       "      <th>lunchTime</th>\n",
       "      <th>postCategory</th>\n",
       "      <th>sold</th>\n",
       "      <th>price</th>\n",
       "      <th>discount</th>\n",
       "      <th>shippingCost</th>\n",
       "      <th>category_name</th>\n",
       "      <th>category_id</th>\n",
       "      <th>type</th>\n",
       "    </tr>\n",
       "  </thead>\n",
       "  <tbody>\n",
       "    <tr>\n",
       "      <th>0</th>\n",
       "      <td>900250272</td>\n",
       "      <td>IDEACH Official Store</td>\n",
       "      <td>Wireless Handheld Vacuum Cleaner 10kPa 150W Po...</td>\n",
       "      <td>4.8</td>\n",
       "      <td>2021-04-19 00:00:00</td>\n",
       "      <td>608</td>\n",
       "      <td>1487 sold</td>\n",
       "      <td>464.16</td>\n",
       "      <td>76</td>\n",
       "      <td>0.0</td>\n",
       "      <td>home-appliances</td>\n",
       "      <td>6</td>\n",
       "      <td>natural</td>\n",
       "    </tr>\n",
       "    <tr>\n",
       "      <th>1</th>\n",
       "      <td>5379102</td>\n",
       "      <td>Factory Direct Collected Store</td>\n",
       "      <td>Portable Water Drop Humidifier USB Desktop Ind...</td>\n",
       "      <td>4.8</td>\n",
       "      <td>2022-07-19 00:00:00</td>\n",
       "      <td>625</td>\n",
       "      <td>5348 sold</td>\n",
       "      <td>22.28</td>\n",
       "      <td>54</td>\n",
       "      <td>0.0</td>\n",
       "      <td>home-appliances</td>\n",
       "      <td>6</td>\n",
       "      <td>natural</td>\n",
       "    </tr>\n",
       "    <tr>\n",
       "      <th>2</th>\n",
       "      <td>911794975</td>\n",
       "      <td>HOMDD Specialty Store</td>\n",
       "      <td>Portable Desktop Instant Automatic Multi-Speed...</td>\n",
       "      <td>0.0</td>\n",
       "      <td>2022-11-17 00:00:00</td>\n",
       "      <td>610</td>\n",
       "      <td>1 sold</td>\n",
       "      <td>251.76</td>\n",
       "      <td>25</td>\n",
       "      <td>0.0</td>\n",
       "      <td>home-appliances</td>\n",
       "      <td>6</td>\n",
       "      <td>natural</td>\n",
       "    </tr>\n",
       "    <tr>\n",
       "      <th>3</th>\n",
       "      <td>912652146</td>\n",
       "      <td>XINGHUO ONLINE Store</td>\n",
       "      <td>Portable 420ml Air Humidifier Aroma Oil Humidi...</td>\n",
       "      <td>4.7</td>\n",
       "      <td>2021-11-24 00:00:00</td>\n",
       "      <td>625</td>\n",
       "      <td>2979 sold</td>\n",
       "      <td>8.95</td>\n",
       "      <td>84</td>\n",
       "      <td>0.0</td>\n",
       "      <td>home-appliances</td>\n",
       "      <td>6</td>\n",
       "      <td>natural</td>\n",
       "    </tr>\n",
       "    <tr>\n",
       "      <th>4</th>\n",
       "      <td>4991203</td>\n",
       "      <td>ABIR Official Store</td>\n",
       "      <td>ABIR X6 Robot Vacuum Cleaner  Visual Navigatio...</td>\n",
       "      <td>4.7</td>\n",
       "      <td>2019-05-24 00:00:00</td>\n",
       "      <td>608</td>\n",
       "      <td>2103 sold</td>\n",
       "      <td>775.35</td>\n",
       "      <td>59</td>\n",
       "      <td>0.0</td>\n",
       "      <td>home-appliances</td>\n",
       "      <td>6</td>\n",
       "      <td>ad</td>\n",
       "    </tr>\n",
       "  </tbody>\n",
       "</table>\n",
       "</div>"
      ]
     },
     "execution_count": 4,
     "metadata": {},
     "output_type": "execute_result"
    }
   ],
   "execution_count": 4
  },
  {
   "metadata": {},
   "cell_type": "markdown",
   "source": "#### Clean the \"sold\" column by converting values into integers ",
   "id": "82eb6b4db7498d21"
  },
  {
   "metadata": {
    "ExecuteTime": {
     "end_time": "2024-06-21T08:30:46.852182Z",
     "start_time": "2024-06-21T08:30:46.520624Z"
    }
   },
   "cell_type": "code",
   "source": [
    "# Sold column looks like sold count + string \"sold\". We want to leave only the number\n",
    "def clean_sold(sold_data: str) -> int:\n",
    "    try:\n",
    "        sold_count, _ = str.split(sold_data)\n",
    "    except ValueError:\n",
    "        sold_count = sold_data\n",
    "    return int(sold_count)\n",
    "\n",
    "df['sold'] = df['sold'].apply(clean_sold)\n",
    "df.head()"
   ],
   "id": "6c212728c9eecccd",
   "outputs": [
    {
     "data": {
      "text/plain": [
       "     storeId                       storeName  \\\n",
       "0  900250272           IDEACH Official Store   \n",
       "1    5379102  Factory Direct Collected Store   \n",
       "2  911794975           HOMDD Specialty Store   \n",
       "3  912652146            XINGHUO ONLINE Store   \n",
       "4    4991203             ABIR Official Store   \n",
       "\n",
       "                                               title  rating  \\\n",
       "0  Wireless Handheld Vacuum Cleaner 10kPa 150W Po...     4.8   \n",
       "1  Portable Water Drop Humidifier USB Desktop Ind...     4.8   \n",
       "2  Portable Desktop Instant Automatic Multi-Speed...     0.0   \n",
       "3  Portable 420ml Air Humidifier Aroma Oil Humidi...     4.7   \n",
       "4  ABIR X6 Robot Vacuum Cleaner  Visual Navigatio...     4.7   \n",
       "\n",
       "             lunchTime  postCategory  sold   price  discount  shippingCost  \\\n",
       "0  2021-04-19 00:00:00           608  1487  464.16        76           0.0   \n",
       "1  2022-07-19 00:00:00           625  5348   22.28        54           0.0   \n",
       "2  2022-11-17 00:00:00           610     1  251.76        25           0.0   \n",
       "3  2021-11-24 00:00:00           625  2979    8.95        84           0.0   \n",
       "4  2019-05-24 00:00:00           608  2103  775.35        59           0.0   \n",
       "\n",
       "     category_name  category_id     type  \n",
       "0  home-appliances            6  natural  \n",
       "1  home-appliances            6  natural  \n",
       "2  home-appliances            6  natural  \n",
       "3  home-appliances            6  natural  \n",
       "4  home-appliances            6       ad  "
      ],
      "text/html": [
       "<div>\n",
       "<style scoped>\n",
       "    .dataframe tbody tr th:only-of-type {\n",
       "        vertical-align: middle;\n",
       "    }\n",
       "\n",
       "    .dataframe tbody tr th {\n",
       "        vertical-align: top;\n",
       "    }\n",
       "\n",
       "    .dataframe thead th {\n",
       "        text-align: right;\n",
       "    }\n",
       "</style>\n",
       "<table border=\"1\" class=\"dataframe\">\n",
       "  <thead>\n",
       "    <tr style=\"text-align: right;\">\n",
       "      <th></th>\n",
       "      <th>storeId</th>\n",
       "      <th>storeName</th>\n",
       "      <th>title</th>\n",
       "      <th>rating</th>\n",
       "      <th>lunchTime</th>\n",
       "      <th>postCategory</th>\n",
       "      <th>sold</th>\n",
       "      <th>price</th>\n",
       "      <th>discount</th>\n",
       "      <th>shippingCost</th>\n",
       "      <th>category_name</th>\n",
       "      <th>category_id</th>\n",
       "      <th>type</th>\n",
       "    </tr>\n",
       "  </thead>\n",
       "  <tbody>\n",
       "    <tr>\n",
       "      <th>0</th>\n",
       "      <td>900250272</td>\n",
       "      <td>IDEACH Official Store</td>\n",
       "      <td>Wireless Handheld Vacuum Cleaner 10kPa 150W Po...</td>\n",
       "      <td>4.8</td>\n",
       "      <td>2021-04-19 00:00:00</td>\n",
       "      <td>608</td>\n",
       "      <td>1487</td>\n",
       "      <td>464.16</td>\n",
       "      <td>76</td>\n",
       "      <td>0.0</td>\n",
       "      <td>home-appliances</td>\n",
       "      <td>6</td>\n",
       "      <td>natural</td>\n",
       "    </tr>\n",
       "    <tr>\n",
       "      <th>1</th>\n",
       "      <td>5379102</td>\n",
       "      <td>Factory Direct Collected Store</td>\n",
       "      <td>Portable Water Drop Humidifier USB Desktop Ind...</td>\n",
       "      <td>4.8</td>\n",
       "      <td>2022-07-19 00:00:00</td>\n",
       "      <td>625</td>\n",
       "      <td>5348</td>\n",
       "      <td>22.28</td>\n",
       "      <td>54</td>\n",
       "      <td>0.0</td>\n",
       "      <td>home-appliances</td>\n",
       "      <td>6</td>\n",
       "      <td>natural</td>\n",
       "    </tr>\n",
       "    <tr>\n",
       "      <th>2</th>\n",
       "      <td>911794975</td>\n",
       "      <td>HOMDD Specialty Store</td>\n",
       "      <td>Portable Desktop Instant Automatic Multi-Speed...</td>\n",
       "      <td>0.0</td>\n",
       "      <td>2022-11-17 00:00:00</td>\n",
       "      <td>610</td>\n",
       "      <td>1</td>\n",
       "      <td>251.76</td>\n",
       "      <td>25</td>\n",
       "      <td>0.0</td>\n",
       "      <td>home-appliances</td>\n",
       "      <td>6</td>\n",
       "      <td>natural</td>\n",
       "    </tr>\n",
       "    <tr>\n",
       "      <th>3</th>\n",
       "      <td>912652146</td>\n",
       "      <td>XINGHUO ONLINE Store</td>\n",
       "      <td>Portable 420ml Air Humidifier Aroma Oil Humidi...</td>\n",
       "      <td>4.7</td>\n",
       "      <td>2021-11-24 00:00:00</td>\n",
       "      <td>625</td>\n",
       "      <td>2979</td>\n",
       "      <td>8.95</td>\n",
       "      <td>84</td>\n",
       "      <td>0.0</td>\n",
       "      <td>home-appliances</td>\n",
       "      <td>6</td>\n",
       "      <td>natural</td>\n",
       "    </tr>\n",
       "    <tr>\n",
       "      <th>4</th>\n",
       "      <td>4991203</td>\n",
       "      <td>ABIR Official Store</td>\n",
       "      <td>ABIR X6 Robot Vacuum Cleaner  Visual Navigatio...</td>\n",
       "      <td>4.7</td>\n",
       "      <td>2019-05-24 00:00:00</td>\n",
       "      <td>608</td>\n",
       "      <td>2103</td>\n",
       "      <td>775.35</td>\n",
       "      <td>59</td>\n",
       "      <td>0.0</td>\n",
       "      <td>home-appliances</td>\n",
       "      <td>6</td>\n",
       "      <td>ad</td>\n",
       "    </tr>\n",
       "  </tbody>\n",
       "</table>\n",
       "</div>"
      ]
     },
     "execution_count": 5,
     "metadata": {},
     "output_type": "execute_result"
    }
   ],
   "execution_count": 5
  },
  {
   "metadata": {
    "ExecuteTime": {
     "end_time": "2024-06-21T08:30:54.220926Z",
     "start_time": "2024-06-21T08:30:46.852847Z"
    }
   },
   "cell_type": "code",
   "source": [
    "# Translate the timestamp to year, month, and day\n",
    "df['year'] = df['lunchTime'].apply(lambda date: datetime.strptime(date.split()[0], '%Y-%m-%d').year)\n",
    "df['month'] = df['lunchTime'].apply(lambda date: datetime.strptime(date.split()[0], '%Y-%m-%d').month)\n",
    "df['day'] = df['lunchTime'].apply(lambda date: datetime.strptime(date.split()[0], '%Y-%m-%d').day)\n",
    "\n",
    "# Drop the launch time column\n",
    "df = df.drop(columns=['lunchTime'])\n",
    "\n",
    "df.head()"
   ],
   "id": "752d4f7aada32222",
   "outputs": [
    {
     "data": {
      "text/plain": [
       "     storeId                       storeName  \\\n",
       "0  900250272           IDEACH Official Store   \n",
       "1    5379102  Factory Direct Collected Store   \n",
       "2  911794975           HOMDD Specialty Store   \n",
       "3  912652146            XINGHUO ONLINE Store   \n",
       "4    4991203             ABIR Official Store   \n",
       "\n",
       "                                               title  rating  postCategory  \\\n",
       "0  Wireless Handheld Vacuum Cleaner 10kPa 150W Po...     4.8           608   \n",
       "1  Portable Water Drop Humidifier USB Desktop Ind...     4.8           625   \n",
       "2  Portable Desktop Instant Automatic Multi-Speed...     0.0           610   \n",
       "3  Portable 420ml Air Humidifier Aroma Oil Humidi...     4.7           625   \n",
       "4  ABIR X6 Robot Vacuum Cleaner  Visual Navigatio...     4.7           608   \n",
       "\n",
       "   sold   price  discount  shippingCost    category_name  category_id  \\\n",
       "0  1487  464.16        76           0.0  home-appliances            6   \n",
       "1  5348   22.28        54           0.0  home-appliances            6   \n",
       "2     1  251.76        25           0.0  home-appliances            6   \n",
       "3  2979    8.95        84           0.0  home-appliances            6   \n",
       "4  2103  775.35        59           0.0  home-appliances            6   \n",
       "\n",
       "      type  year  month  day  \n",
       "0  natural  2021      4   19  \n",
       "1  natural  2022      7   19  \n",
       "2  natural  2022     11   17  \n",
       "3  natural  2021     11   24  \n",
       "4       ad  2019      5   24  "
      ],
      "text/html": [
       "<div>\n",
       "<style scoped>\n",
       "    .dataframe tbody tr th:only-of-type {\n",
       "        vertical-align: middle;\n",
       "    }\n",
       "\n",
       "    .dataframe tbody tr th {\n",
       "        vertical-align: top;\n",
       "    }\n",
       "\n",
       "    .dataframe thead th {\n",
       "        text-align: right;\n",
       "    }\n",
       "</style>\n",
       "<table border=\"1\" class=\"dataframe\">\n",
       "  <thead>\n",
       "    <tr style=\"text-align: right;\">\n",
       "      <th></th>\n",
       "      <th>storeId</th>\n",
       "      <th>storeName</th>\n",
       "      <th>title</th>\n",
       "      <th>rating</th>\n",
       "      <th>postCategory</th>\n",
       "      <th>sold</th>\n",
       "      <th>price</th>\n",
       "      <th>discount</th>\n",
       "      <th>shippingCost</th>\n",
       "      <th>category_name</th>\n",
       "      <th>category_id</th>\n",
       "      <th>type</th>\n",
       "      <th>year</th>\n",
       "      <th>month</th>\n",
       "      <th>day</th>\n",
       "    </tr>\n",
       "  </thead>\n",
       "  <tbody>\n",
       "    <tr>\n",
       "      <th>0</th>\n",
       "      <td>900250272</td>\n",
       "      <td>IDEACH Official Store</td>\n",
       "      <td>Wireless Handheld Vacuum Cleaner 10kPa 150W Po...</td>\n",
       "      <td>4.8</td>\n",
       "      <td>608</td>\n",
       "      <td>1487</td>\n",
       "      <td>464.16</td>\n",
       "      <td>76</td>\n",
       "      <td>0.0</td>\n",
       "      <td>home-appliances</td>\n",
       "      <td>6</td>\n",
       "      <td>natural</td>\n",
       "      <td>2021</td>\n",
       "      <td>4</td>\n",
       "      <td>19</td>\n",
       "    </tr>\n",
       "    <tr>\n",
       "      <th>1</th>\n",
       "      <td>5379102</td>\n",
       "      <td>Factory Direct Collected Store</td>\n",
       "      <td>Portable Water Drop Humidifier USB Desktop Ind...</td>\n",
       "      <td>4.8</td>\n",
       "      <td>625</td>\n",
       "      <td>5348</td>\n",
       "      <td>22.28</td>\n",
       "      <td>54</td>\n",
       "      <td>0.0</td>\n",
       "      <td>home-appliances</td>\n",
       "      <td>6</td>\n",
       "      <td>natural</td>\n",
       "      <td>2022</td>\n",
       "      <td>7</td>\n",
       "      <td>19</td>\n",
       "    </tr>\n",
       "    <tr>\n",
       "      <th>2</th>\n",
       "      <td>911794975</td>\n",
       "      <td>HOMDD Specialty Store</td>\n",
       "      <td>Portable Desktop Instant Automatic Multi-Speed...</td>\n",
       "      <td>0.0</td>\n",
       "      <td>610</td>\n",
       "      <td>1</td>\n",
       "      <td>251.76</td>\n",
       "      <td>25</td>\n",
       "      <td>0.0</td>\n",
       "      <td>home-appliances</td>\n",
       "      <td>6</td>\n",
       "      <td>natural</td>\n",
       "      <td>2022</td>\n",
       "      <td>11</td>\n",
       "      <td>17</td>\n",
       "    </tr>\n",
       "    <tr>\n",
       "      <th>3</th>\n",
       "      <td>912652146</td>\n",
       "      <td>XINGHUO ONLINE Store</td>\n",
       "      <td>Portable 420ml Air Humidifier Aroma Oil Humidi...</td>\n",
       "      <td>4.7</td>\n",
       "      <td>625</td>\n",
       "      <td>2979</td>\n",
       "      <td>8.95</td>\n",
       "      <td>84</td>\n",
       "      <td>0.0</td>\n",
       "      <td>home-appliances</td>\n",
       "      <td>6</td>\n",
       "      <td>natural</td>\n",
       "      <td>2021</td>\n",
       "      <td>11</td>\n",
       "      <td>24</td>\n",
       "    </tr>\n",
       "    <tr>\n",
       "      <th>4</th>\n",
       "      <td>4991203</td>\n",
       "      <td>ABIR Official Store</td>\n",
       "      <td>ABIR X6 Robot Vacuum Cleaner  Visual Navigatio...</td>\n",
       "      <td>4.7</td>\n",
       "      <td>608</td>\n",
       "      <td>2103</td>\n",
       "      <td>775.35</td>\n",
       "      <td>59</td>\n",
       "      <td>0.0</td>\n",
       "      <td>home-appliances</td>\n",
       "      <td>6</td>\n",
       "      <td>ad</td>\n",
       "      <td>2019</td>\n",
       "      <td>5</td>\n",
       "      <td>24</td>\n",
       "    </tr>\n",
       "  </tbody>\n",
       "</table>\n",
       "</div>"
      ]
     },
     "execution_count": 6,
     "metadata": {},
     "output_type": "execute_result"
    }
   ],
   "execution_count": 6
  },
  {
   "metadata": {},
   "cell_type": "markdown",
   "source": [
    "# TODO\n",
    "3) rating value counts\n",
    "3) launch time remove time stamp\n",
    "5) fulfil shipping cost with mean\n",
    "6) remove category_id because it is related to category name\n",
    "7) store name???\n"
   ],
   "id": "5141a744bea9a65c"
  },
  {
   "metadata": {},
   "cell_type": "markdown",
   "source": "## Data description & exploration",
   "id": "c2bbb2737ca73194"
  },
  {
   "metadata": {
    "ExecuteTime": {
     "end_time": "2024-06-21T08:30:54.460284Z",
     "start_time": "2024-06-21T08:30:54.221497Z"
    }
   },
   "cell_type": "code",
   "source": "df.describe()",
   "id": "58a4b63a2c784346",
   "outputs": [
    {
     "data": {
      "text/plain": [
       "            storeId         rating  postCategory           sold  \\\n",
       "count  8.642700e+05  864270.000000  8.642700e+05  864270.000000   \n",
       "mean   5.226033e+08       2.272654  1.229935e+08      81.911017   \n",
       "std    4.956751e+08       2.404211  8.922083e+07     808.134823   \n",
       "min    1.000300e+04       0.000000  1.450000e+02       0.000000   \n",
       "25%    4.291033e+06       0.000000  3.806100e+05       0.000000   \n",
       "50%    9.104512e+08       0.000000  2.000003e+08       3.000000   \n",
       "75%    9.125601e+08       5.000000  2.000039e+08      19.000000   \n",
       "max    1.102528e+09       5.000000  2.018986e+08  121131.000000   \n",
       "\n",
       "               price       discount  shippingCost   category_id  \\\n",
       "count  864270.000000  864270.000000  7.980720e+05  8.642700e+05   \n",
       "mean      221.446306      30.898451  9.102355e+01  1.387867e+08   \n",
       "std      2297.688077      19.992854  6.154509e+03  8.237863e+07   \n",
       "min         0.010000       0.000000  0.000000e+00  5.000000e+00   \n",
       "25%        13.942500      15.000000  0.000000e+00  1.000016e+08   \n",
       "50%        38.340000      32.000000  1.220000e+01  2.000021e+08   \n",
       "75%       110.640000      48.000000  2.235000e+01  2.002153e+08   \n",
       "max    976428.200000      99.000000  2.896137e+06  2.060891e+08   \n",
       "\n",
       "                year          month            day  \n",
       "count  864270.000000  864270.000000  864270.000000  \n",
       "mean     2021.348286       7.541136      16.279225  \n",
       "std         1.209375       3.073709       8.638346  \n",
       "min      2008.000000       1.000000       1.000000  \n",
       "25%      2021.000000       5.000000       9.000000  \n",
       "50%      2022.000000       8.000000      16.000000  \n",
       "75%      2022.000000      10.000000      24.000000  \n",
       "max      2022.000000      12.000000      31.000000  "
      ],
      "text/html": [
       "<div>\n",
       "<style scoped>\n",
       "    .dataframe tbody tr th:only-of-type {\n",
       "        vertical-align: middle;\n",
       "    }\n",
       "\n",
       "    .dataframe tbody tr th {\n",
       "        vertical-align: top;\n",
       "    }\n",
       "\n",
       "    .dataframe thead th {\n",
       "        text-align: right;\n",
       "    }\n",
       "</style>\n",
       "<table border=\"1\" class=\"dataframe\">\n",
       "  <thead>\n",
       "    <tr style=\"text-align: right;\">\n",
       "      <th></th>\n",
       "      <th>storeId</th>\n",
       "      <th>rating</th>\n",
       "      <th>postCategory</th>\n",
       "      <th>sold</th>\n",
       "      <th>price</th>\n",
       "      <th>discount</th>\n",
       "      <th>shippingCost</th>\n",
       "      <th>category_id</th>\n",
       "      <th>year</th>\n",
       "      <th>month</th>\n",
       "      <th>day</th>\n",
       "    </tr>\n",
       "  </thead>\n",
       "  <tbody>\n",
       "    <tr>\n",
       "      <th>count</th>\n",
       "      <td>8.642700e+05</td>\n",
       "      <td>864270.000000</td>\n",
       "      <td>8.642700e+05</td>\n",
       "      <td>864270.000000</td>\n",
       "      <td>864270.000000</td>\n",
       "      <td>864270.000000</td>\n",
       "      <td>7.980720e+05</td>\n",
       "      <td>8.642700e+05</td>\n",
       "      <td>864270.000000</td>\n",
       "      <td>864270.000000</td>\n",
       "      <td>864270.000000</td>\n",
       "    </tr>\n",
       "    <tr>\n",
       "      <th>mean</th>\n",
       "      <td>5.226033e+08</td>\n",
       "      <td>2.272654</td>\n",
       "      <td>1.229935e+08</td>\n",
       "      <td>81.911017</td>\n",
       "      <td>221.446306</td>\n",
       "      <td>30.898451</td>\n",
       "      <td>9.102355e+01</td>\n",
       "      <td>1.387867e+08</td>\n",
       "      <td>2021.348286</td>\n",
       "      <td>7.541136</td>\n",
       "      <td>16.279225</td>\n",
       "    </tr>\n",
       "    <tr>\n",
       "      <th>std</th>\n",
       "      <td>4.956751e+08</td>\n",
       "      <td>2.404211</td>\n",
       "      <td>8.922083e+07</td>\n",
       "      <td>808.134823</td>\n",
       "      <td>2297.688077</td>\n",
       "      <td>19.992854</td>\n",
       "      <td>6.154509e+03</td>\n",
       "      <td>8.237863e+07</td>\n",
       "      <td>1.209375</td>\n",
       "      <td>3.073709</td>\n",
       "      <td>8.638346</td>\n",
       "    </tr>\n",
       "    <tr>\n",
       "      <th>min</th>\n",
       "      <td>1.000300e+04</td>\n",
       "      <td>0.000000</td>\n",
       "      <td>1.450000e+02</td>\n",
       "      <td>0.000000</td>\n",
       "      <td>0.010000</td>\n",
       "      <td>0.000000</td>\n",
       "      <td>0.000000e+00</td>\n",
       "      <td>5.000000e+00</td>\n",
       "      <td>2008.000000</td>\n",
       "      <td>1.000000</td>\n",
       "      <td>1.000000</td>\n",
       "    </tr>\n",
       "    <tr>\n",
       "      <th>25%</th>\n",
       "      <td>4.291033e+06</td>\n",
       "      <td>0.000000</td>\n",
       "      <td>3.806100e+05</td>\n",
       "      <td>0.000000</td>\n",
       "      <td>13.942500</td>\n",
       "      <td>15.000000</td>\n",
       "      <td>0.000000e+00</td>\n",
       "      <td>1.000016e+08</td>\n",
       "      <td>2021.000000</td>\n",
       "      <td>5.000000</td>\n",
       "      <td>9.000000</td>\n",
       "    </tr>\n",
       "    <tr>\n",
       "      <th>50%</th>\n",
       "      <td>9.104512e+08</td>\n",
       "      <td>0.000000</td>\n",
       "      <td>2.000003e+08</td>\n",
       "      <td>3.000000</td>\n",
       "      <td>38.340000</td>\n",
       "      <td>32.000000</td>\n",
       "      <td>1.220000e+01</td>\n",
       "      <td>2.000021e+08</td>\n",
       "      <td>2022.000000</td>\n",
       "      <td>8.000000</td>\n",
       "      <td>16.000000</td>\n",
       "    </tr>\n",
       "    <tr>\n",
       "      <th>75%</th>\n",
       "      <td>9.125601e+08</td>\n",
       "      <td>5.000000</td>\n",
       "      <td>2.000039e+08</td>\n",
       "      <td>19.000000</td>\n",
       "      <td>110.640000</td>\n",
       "      <td>48.000000</td>\n",
       "      <td>2.235000e+01</td>\n",
       "      <td>2.002153e+08</td>\n",
       "      <td>2022.000000</td>\n",
       "      <td>10.000000</td>\n",
       "      <td>24.000000</td>\n",
       "    </tr>\n",
       "    <tr>\n",
       "      <th>max</th>\n",
       "      <td>1.102528e+09</td>\n",
       "      <td>5.000000</td>\n",
       "      <td>2.018986e+08</td>\n",
       "      <td>121131.000000</td>\n",
       "      <td>976428.200000</td>\n",
       "      <td>99.000000</td>\n",
       "      <td>2.896137e+06</td>\n",
       "      <td>2.060891e+08</td>\n",
       "      <td>2022.000000</td>\n",
       "      <td>12.000000</td>\n",
       "      <td>31.000000</td>\n",
       "    </tr>\n",
       "  </tbody>\n",
       "</table>\n",
       "</div>"
      ]
     },
     "execution_count": 7,
     "metadata": {},
     "output_type": "execute_result"
    }
   ],
   "execution_count": 7
  },
  {
   "metadata": {
    "ExecuteTime": {
     "end_time": "2024-06-21T08:30:54.568695Z",
     "start_time": "2024-06-21T08:30:54.461068Z"
    }
   },
   "cell_type": "code",
   "source": "df.info()",
   "id": "a2dc29a959421307",
   "outputs": [
    {
     "name": "stdout",
     "output_type": "stream",
     "text": [
      "<class 'pandas.core.frame.DataFrame'>\n",
      "RangeIndex: 864270 entries, 0 to 864269\n",
      "Data columns (total 15 columns):\n",
      " #   Column         Non-Null Count   Dtype  \n",
      "---  ------         --------------   -----  \n",
      " 0   storeId        864270 non-null  int64  \n",
      " 1   storeName      864270 non-null  object \n",
      " 2   title          864270 non-null  object \n",
      " 3   rating         864270 non-null  float64\n",
      " 4   postCategory   864270 non-null  int64  \n",
      " 5   sold           864270 non-null  int64  \n",
      " 6   price          864270 non-null  float64\n",
      " 7   discount       864270 non-null  int64  \n",
      " 8   shippingCost   798072 non-null  float64\n",
      " 9   category_name  864270 non-null  object \n",
      " 10  category_id    864270 non-null  int64  \n",
      " 11  type           864270 non-null  object \n",
      " 12  year           864270 non-null  int64  \n",
      " 13  month          864270 non-null  int64  \n",
      " 14  day            864270 non-null  int64  \n",
      "dtypes: float64(3), int64(8), object(4)\n",
      "memory usage: 98.9+ MB\n"
     ]
    }
   ],
   "execution_count": 8
  },
  {
   "metadata": {
    "ExecuteTime": {
     "end_time": "2024-06-21T08:30:55.066822Z",
     "start_time": "2024-06-21T08:30:54.569427Z"
    }
   },
   "cell_type": "code",
   "source": "df.nunique()",
   "id": "6f8dbea4e4c9bff0",
   "outputs": [
    {
     "data": {
      "text/plain": [
       "storeId           99362\n",
       "storeName         99468\n",
       "title            595296\n",
       "rating               41\n",
       "postCategory       3186\n",
       "sold               4923\n",
       "price             59308\n",
       "discount            100\n",
       "shippingCost      16016\n",
       "category_name       325\n",
       "category_id         325\n",
       "type                  2\n",
       "year                 15\n",
       "month                12\n",
       "day                  31\n",
       "dtype: int64"
      ]
     },
     "execution_count": 9,
     "metadata": {},
     "output_type": "execute_result"
    }
   ],
   "execution_count": 9
  },
  {
   "metadata": {},
   "cell_type": "markdown",
   "source": [
    "#### Categories of the features with description\n",
    "- Text:\n",
    "    - storeName: name of the store\n",
    "    - title: description of the product\n",
    "- Numerical:\n",
    "    - rating: rating of the product from 0 to 5\n",
    "    - sold: number of times the product was sold\n",
    "    - price: price after applying the discount in SAR (1SAR ~= 0.27USD)\n",
    "    - discount: discount percentage of the product Price in between 0-100\n",
    "    - shippingCost: Shipping Cost to Saudi Arabia in SAR\n",
    "- Categorical\n",
    "    - postCategory: probably, related to delivery\n",
    "    - category_name: category the product is in\n",
    "    - category_id: id of the category\n",
    "    - type: either ad (Advertised) or natural (not Advertised)\n",
    "- Time\n",
    "    - year\n",
    "    - month\n",
    "    - day\n",
    "    "
   ],
   "id": "515736d8da0370c7"
  },
  {
   "metadata": {},
   "cell_type": "markdown",
   "source": "#### Data distribution (Bivariate analysis)",
   "id": "aee43463e0ae5da9"
  },
  {
   "metadata": {
    "ExecuteTime": {
     "end_time": "2024-06-21T08:30:55.068771Z",
     "start_time": "2024-06-21T08:30:55.067323Z"
    }
   },
   "cell_type": "code",
   "source": "# TODO",
   "id": "f94a16818d09cc91",
   "outputs": [],
   "execution_count": 10
  },
  {
   "metadata": {
    "ExecuteTime": {
     "end_time": "2024-06-21T08:30:55.262660Z",
     "start_time": "2024-06-21T08:30:55.069276Z"
    }
   },
   "cell_type": "code",
   "source": "import matplotlib.pyplot as plt",
   "id": "8097efb7dfe9962e",
   "outputs": [],
   "execution_count": 11
  },
  {
   "metadata": {
    "ExecuteTime": {
     "end_time": "2024-06-21T08:30:57.045016Z",
     "start_time": "2024-06-21T08:30:55.263202Z"
    }
   },
   "cell_type": "code",
   "source": [
    "plt.scatter(df['rating'], df['price'])\n",
    "plt.title(\"Rating vs. Price\")\n",
    "plt.xlabel(\"Rating\")\n",
    "plt.ylabel(\"Price\")"
   ],
   "id": "e7416fe955314c0b",
   "outputs": [
    {
     "data": {
      "text/plain": [
       "Text(0, 0.5, 'Price')"
      ]
     },
     "execution_count": 12,
     "metadata": {},
     "output_type": "execute_result"
    },
    {
     "data": {
      "text/plain": [
       "<Figure size 640x480 with 1 Axes>"
      ],
      "image/png": "[encoded data removed]"
     },
     "metadata": {},
     "output_type": "display_data"
    }
   ],
   "execution_count": 12
  },
  {
   "metadata": {
    "ExecuteTime": {
     "end_time": "2024-06-21T08:30:58.783550Z",
     "start_time": "2024-06-21T08:30:57.045595Z"
    }
   },
   "cell_type": "code",
   "source": [
    "plt.scatter(df['discount'], df['price'])\n",
    "plt.title(\"Discount vs. Price\")\n",
    "plt.xlabel(\"Discount\")\n",
    "plt.ylabel(\"Price\")"
   ],
   "id": "6dd9685f9e3b57f9",
   "outputs": [
    {
     "data": {
      "text/plain": [
       "Text(0, 0.5, 'Price')"
      ]
     },
     "execution_count": 13,
     "metadata": {},
     "output_type": "execute_result"
    },
    {
     "data": {
      "text/plain": [
       "<Figure size 640x480 with 1 Axes>"
      ],
      "image/png": "[encoded data removed]"
     },
     "metadata": {},
     "output_type": "display_data"
    }
   ],
   "execution_count": 13
  },
  {
   "metadata": {
    "ExecuteTime": {
     "end_time": "2024-06-21T08:31:00.425371Z",
     "start_time": "2024-06-21T08:30:58.784782Z"
    }
   },
   "cell_type": "code",
   "source": [
    "plt.scatter(df['shippingCost'], df['price'])\n",
    "plt.title(\"Shipping Cost\")\n",
    "plt.xlabel(\"Shipping Cost\")\n",
    "plt.ylabel(\"Price\")"
   ],
   "id": "2850ab4938e3df34",
   "outputs": [
    {
     "data": {
      "text/plain": [
       "Text(0, 0.5, 'Price')"
      ]
     },
     "execution_count": 14,
     "metadata": {},
     "output_type": "execute_result"
    },
    {
     "data": {
      "text/plain": [
       "<Figure size 640x480 with 1 Axes>"
      ],
      "image/png": "[encoded data removed]"
     },
     "metadata": {},
     "output_type": "display_data"
    }
   ],
   "execution_count": 14
  },
  {
   "metadata": {
    "ExecuteTime": {
     "end_time": "2024-06-21T08:31:02.186505Z",
     "start_time": "2024-06-21T08:31:00.426001Z"
    }
   },
   "cell_type": "code",
   "source": [
    "plt.scatter(df['year'], df['price'])\n",
    "plt.title(\"Year vs. Price\")\n",
    "plt.xlabel(\"Year\")\n",
    "plt.ylabel(\"Price\")"
   ],
   "id": "c2d0d103053bb50f",
   "outputs": [
    {
     "data": {
      "text/plain": [
       "Text(0, 0.5, 'Price')"
      ]
     },
     "execution_count": 15,
     "metadata": {},
     "output_type": "execute_result"
    },
    {
     "data": {
      "text/plain": [
       "<Figure size 640x480 with 1 Axes>"
      ],
      "image/png": "[encoded data removed]"
     },
     "metadata": {},
     "output_type": "display_data"
    }
   ],
   "execution_count": 15
  },
  {
   "metadata": {},
   "cell_type": "markdown",
   "source": [
    "#### Conclusion\n",
    "We can see no linear relationships between the features and the target, it suggests that methods relying on linear assumptions might not perform well\n",
    "\n",
    "Potentially useful methods could be:\n",
    "- Decision Trees and Ensembles\n",
    "- SVM\n",
    "- MLP\n",
    "\n",
    "Potentially not useful methods:\n",
    "- Linear regression\n",
    "\n",
    "Preliminary list of features which may contribute to the performance of the ML model:\n",
    "- \n",
    "- \n",
    "- \n",
    "- \n",
    "- \n",
    "- "
   ],
   "id": "682874629f2a88dd"
  },
  {
   "metadata": {},
   "cell_type": "markdown",
   "source": "## Data quality verification",
   "id": "66c277dc8d6f86b1"
  },
  {
   "metadata": {
    "ExecuteTime": {
     "end_time": "2024-06-21T08:31:02.286789Z",
     "start_time": "2024-06-21T08:31:02.187210Z"
    }
   },
   "cell_type": "code",
   "source": "df.isnull().sum()",
   "id": "f38e455a95c16ae0",
   "outputs": [
    {
     "data": {
      "text/plain": [
       "storeId              0\n",
       "storeName            0\n",
       "title                0\n",
       "rating               0\n",
       "postCategory         0\n",
       "sold                 0\n",
       "price                0\n",
       "discount             0\n",
       "shippingCost     66198\n",
       "category_name        0\n",
       "category_id          0\n",
       "type                 0\n",
       "year                 0\n",
       "month                0\n",
       "day                  0\n",
       "dtype: int64"
      ]
     },
     "execution_count": 16,
     "metadata": {},
     "output_type": "execute_result"
    }
   ],
   "execution_count": 16
  },
  {
   "metadata": {
    "ExecuteTime": {
     "end_time": "2024-06-21T08:31:02.294739Z",
     "start_time": "2024-06-21T08:31:02.287333Z"
    }
   },
   "cell_type": "code",
   "source": [
    "# Let's impute the nan values in shippingCost with the mean value\n",
    "mean_shipping_cost = df['shippingCost'].mean()\n",
    "df.fillna({'shippingCost': mean_shipping_cost}, inplace=True)"
   ],
   "id": "59397b94cb02586d",
   "outputs": [],
   "execution_count": 17
  },
  {
   "metadata": {
    "ExecuteTime": {
     "end_time": "2024-06-21T08:31:22.971341Z",
     "start_time": "2024-06-21T08:31:22.869710Z"
    }
   },
   "cell_type": "code",
   "source": [
    "# check the missing values again\n",
    "df.isnull().sum()"
   ],
   "id": "106b9ebe62bde0d",
   "outputs": [
    {
     "data": {
      "text/plain": [
       "storeId          0\n",
       "storeName        0\n",
       "title            0\n",
       "rating           0\n",
       "postCategory     0\n",
       "sold             0\n",
       "price            0\n",
       "discount         0\n",
       "shippingCost     0\n",
       "category_name    0\n",
       "category_id      0\n",
       "type             0\n",
       "year             0\n",
       "month            0\n",
       "day              0\n",
       "dtype: int64"
      ]
     },
     "execution_count": 19,
     "metadata": {},
     "output_type": "execute_result"
    }
   ],
   "execution_count": 19
  },
  {
   "metadata": {
    "ExecuteTime": {
     "end_time": "2024-06-21T08:33:42.809759Z",
     "start_time": "2024-06-21T08:33:39.252163Z"
    }
   },
   "cell_type": "code",
   "source": "df.to_csv('../data/cleaned_data.csv', index=False)",
   "id": "15a8e03eccbe0baf",
   "outputs": [],
   "execution_count": 21
  },
  {
   "metadata": {
    "ExecuteTime": {
     "end_time": "2024-06-21T08:32:31.033525Z",
     "start_time": "2024-06-21T08:32:31.031770Z"
    }
   },
   "cell_type": "code",
   "source": "# TODO: data requirements",
   "id": "e30bebb03000f97",
   "outputs": [],
   "execution_count": 20
  },
  {
   "metadata": {},
   "cell_type": "code",
   "outputs": [],
   "execution_count": null,
   "source": "",
   "id": "d3aced4687ba74ec"
  }
 ],
 "metadata": {
  "kernelspec": {
   "display_name": "Python 3",
   "language": "python",
   "name": "python3"
  },
  "language_info": {
   "codemirror_mode": {
    "name": "ipython",
    "version": 2
   },
   "file_extension": ".py",
   "mimetype": "text/x-python",
   "name": "python",
   "nbconvert_exporter": "python",
   "pygments_lexer": "ipython2",
   "version": "2.7.6"
  }
 },
 "nbformat": 4,
 "nbformat_minor": 5
}
