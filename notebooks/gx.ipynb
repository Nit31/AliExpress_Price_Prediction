{
 "cells": [
  {
   "metadata": {
    "ExecuteTime": {
     "end_time": "2024-07-06T12:26:32.083174Z",
     "start_time": "2024-07-06T12:26:30.792531Z"
    }
   },
   "cell_type": "code",
   "source": [
    "import great_expectations as gx\n",
    "from great_expectations.data_context import FileDataContext\n",
    "import warnings\n",
    "warnings.filterwarnings(\"ignore\", category=DeprecationWarning)"
   ],
   "id": "1478c991b0deb53c",
   "outputs": [],
   "execution_count": 1
  },
  {
   "metadata": {
    "ExecuteTime": {
     "end_time": "2024-07-06T12:26:27.481337Z",
     "start_time": "2024-07-06T12:26:23.262785Z"
    }
   },
   "cell_type": "code",
   "source": [
    "try:\n",
    "    context = gx.get_context(context_root_dir = \"services/gx\")\n",
    "except Exception as e:\n",
    "    context = FileDataContext(context_root_dir = \"services/gx\")\n",
    "\n",
    "# Add data source and data asset\n",
    "data_source = context.sources.add_or_update_pandas(name=\"sample\")\n",
    "data_asset = data_source.add_csv_asset(\n",
    "    name = \"sample1\",\n",
    "    filepath_or_buffer='../data/samples/sample.csv'\n",
    ")\n",
    "\n",
    "# Create batch request\n",
    "batch_request = data_asset.build_batch_request()\n",
    "\n",
    "# Create expectation suit\n",
    "context.add_or_update_expectation_suite(\"expectation_suite\")\n",
    "\n",
    "\n",
    "# Create a validator\n",
    "validator = context.get_validator(\n",
    "    batch_request=batch_request,\n",
    "    expectation_suite_name=\"expectation_suite\",\n",
    ")\n",
    "try:\n",
    "    # Add expectations on the validator\n",
    "\n",
    "    # Completeness & Uniqueness & Validity\n",
    "    validator.expect_column_values_to_not_be_null(column='id')\n",
    "    validator.expect_column_values_to_be_unique(column='id')\n",
    "    validator.expect_column_values_to_be_of_type(column='id', type_='int')\n",
    "\n",
    "    # Completeness & Consistency & Validity\n",
    "    validator.expect_column_values_to_not_be_null(column='title')\n",
    "    validator.expect_column_values_to_be_of_type(column='title', type_='str')\n",
    "    validator.expect_column_proportion_of_unique_values_to_be_between(\n",
    "        column=\"title\",\n",
    "        min_value=0.7,\n",
    "        max_value=1\n",
    "    )\n",
    "\n",
    "    # Completeness & Validity & Timelessness\n",
    "    validator.expect_column_values_to_not_be_null(column='lunchTime')\n",
    "    validator.expect_column_values_to_match_regex_list(\n",
    "        column='lunchTime',\n",
    "        regex_list=[r'^\\d{4}-\\d{2}-\\d{2} \\d{2}:\\d{2}:\\d{2}$', r'^(200[0-9]|201[0-9]|202[0-4])-\\d{2}-\\d{2} \\d{2}:\\d{2}:\\d{2}$']\n",
    "    )\n",
    "\n",
    "    # Completeness & Consistency & Accuracy\n",
    "    validator.expect_column_values_to_not_be_null(column='sold')\n",
    "    validator.expect_column_values_to_be_in_type_list(column='sold', type_list=['int'])\n",
    "    validator.expect_column_min_to_be_between(column='sold', min_value=0)\n",
    "\n",
    "    # Completeness & Consistency & Accuracy\n",
    "    validator.expect_column_values_to_not_be_null(column='rating')\n",
    "    validator.expect_column_values_to_be_of_type(column='rating', type_='float64')\n",
    "    validator.expect_column_values_to_be_between(column='rating', min_value=0, max_value=5)\n",
    "\n",
    "    # Completeness & Consistency & Accuracy\n",
    "    validator.expect_column_values_to_not_be_null(column='discount')\n",
    "    validator.expect_column_values_to_be_of_type(column='discount', type_='int')\n",
    "    validator.expect_column_values_to_be_between(column='discount', min_value=0, max_value=100)\n",
    "\n",
    "    # Completeness & Consistency & Consistency\n",
    "    validator.expect_column_values_to_not_be_null(column='type')\n",
    "    validator.expect_column_values_to_be_of_type(column='type', type_='str')\n",
    "    validator.expect_column_distinct_values_to_equal_set(column='type', value_set=['ad', 'natural'])\n",
    "\n",
    "    # Save expectation suite\n",
    "    validator.save_expectation_suite(\n",
    "        discard_failed_expectations = False\n",
    "    )\n",
    "    \n",
    "    batch_list = data_asset.get_batch_list_from_batch_request(batch_request)\n",
    "\n",
    "    validations = [\n",
    "        {\n",
    "            \"batch_request\": batch.batch_request,\n",
    "            \"expectation_suite_name\": \"expectation_suite\"\n",
    "        }\n",
    "        for batch in batch_list\n",
    "    ]\n",
    "    checkpoint = context.add_or_update_checkpoint(\n",
    "        name=\"validator_checkpoint\",\n",
    "        validations=validations\n",
    "    )\n",
    "    checkpoint_result = checkpoint.run()\n",
    "except Exception as e:\n",
    "    print(e)\n",
    "# Build the data docs (website files)\n",
    "context.build_data_docs()\n",
    "\n",
    "# Open the data docs in a browser\n",
    "context.open_data_docs()"
   ],
   "id": "8e733e2f006beed3",
   "outputs": [
    {
     "data": {
      "text/plain": [
       "Calculating Metrics:   0%|          | 0/6 [00:00<?, ?it/s]"
      ],
      "application/vnd.jupyter.widget-view+json": {
       "version_major": 2,
       "version_minor": 0,
       "model_id": "5e705daebc1f4e9ca98e602ef352bdac"
      }
     },
     "metadata": {},
     "output_type": "display_data"
    },
    {
     "data": {
      "text/plain": [
       "Calculating Metrics:   0%|          | 0/8 [00:00<?, ?it/s]"
      ],
      "application/vnd.jupyter.widget-view+json": {
       "version_major": 2,
       "version_minor": 0,
       "model_id": "f55039db404e4832a64cbd8c5c2e4316"
      }
     },
     "metadata": {},
     "output_type": "display_data"
    },
    {
     "data": {
      "text/plain": [
       "Calculating Metrics:   0%|          | 0/1 [00:00<?, ?it/s]"
      ],
      "application/vnd.jupyter.widget-view+json": {
       "version_major": 2,
       "version_minor": 0,
       "model_id": "9875f339ce8d4db6bede90528b8a399b"
      }
     },
     "metadata": {},
     "output_type": "display_data"
    },
    {
     "data": {
      "text/plain": [
       "Calculating Metrics:   0%|          | 0/6 [00:00<?, ?it/s]"
      ],
      "application/vnd.jupyter.widget-view+json": {
       "version_major": 2,
       "version_minor": 0,
       "model_id": "8a5ccc2a0a86416f94e006de1bf75c1e"
      }
     },
     "metadata": {},
     "output_type": "display_data"
    },
    {
     "data": {
      "text/plain": [
       "Calculating Metrics:   0%|          | 0/8 [00:00<?, ?it/s]"
      ],
      "application/vnd.jupyter.widget-view+json": {
       "version_major": 2,
       "version_minor": 0,
       "model_id": "9da9999f9b4246798646b93c0cedfb21"
      }
     },
     "metadata": {},
     "output_type": "display_data"
    },
    {
     "data": {
      "text/plain": [
       "Calculating Metrics:   0%|          | 0/7 [00:00<?, ?it/s]"
      ],
      "application/vnd.jupyter.widget-view+json": {
       "version_major": 2,
       "version_minor": 0,
       "model_id": "cf437b533bb345f7853ffb1d9913be8d"
      }
     },
     "metadata": {},
     "output_type": "display_data"
    },
    {
     "data": {
      "text/plain": [
       "Calculating Metrics:   0%|          | 0/6 [00:00<?, ?it/s]"
      ],
      "application/vnd.jupyter.widget-view+json": {
       "version_major": 2,
       "version_minor": 0,
       "model_id": "4592480aec6b422fbdc0c4c6c20426db"
      }
     },
     "metadata": {},
     "output_type": "display_data"
    },
    {
     "data": {
      "text/plain": [
       "Calculating Metrics:   0%|          | 0/8 [00:00<?, ?it/s]"
      ],
      "application/vnd.jupyter.widget-view+json": {
       "version_major": 2,
       "version_minor": 0,
       "model_id": "79bede6356ec4e75ace274170db3ea90"
      }
     },
     "metadata": {},
     "output_type": "display_data"
    },
    {
     "data": {
      "text/plain": [
       "Calculating Metrics:   0%|          | 0/6 [00:00<?, ?it/s]"
      ],
      "application/vnd.jupyter.widget-view+json": {
       "version_major": 2,
       "version_minor": 0,
       "model_id": "74ca59ce6cb14b96872b4335917a4118"
      }
     },
     "metadata": {},
     "output_type": "display_data"
    },
    {
     "data": {
      "text/plain": [
       "Calculating Metrics:   0%|          | 0/1 [00:00<?, ?it/s]"
      ],
      "application/vnd.jupyter.widget-view+json": {
       "version_major": 2,
       "version_minor": 0,
       "model_id": "4860e7d2f1994d148feb0198aec26fad"
      }
     },
     "metadata": {},
     "output_type": "display_data"
    },
    {
     "data": {
      "text/plain": [
       "Calculating Metrics:   0%|          | 0/4 [00:00<?, ?it/s]"
      ],
      "application/vnd.jupyter.widget-view+json": {
       "version_major": 2,
       "version_minor": 0,
       "model_id": "143311b8924f44bea2974b5d1f17292a"
      }
     },
     "metadata": {},
     "output_type": "display_data"
    },
    {
     "data": {
      "text/plain": [
       "Calculating Metrics:   0%|          | 0/6 [00:00<?, ?it/s]"
      ],
      "application/vnd.jupyter.widget-view+json": {
       "version_major": 2,
       "version_minor": 0,
       "model_id": "17c97febe4ee40e9880569dd9f762de7"
      }
     },
     "metadata": {},
     "output_type": "display_data"
    },
    {
     "data": {
      "text/plain": [
       "Calculating Metrics:   0%|          | 0/1 [00:00<?, ?it/s]"
      ],
      "application/vnd.jupyter.widget-view+json": {
       "version_major": 2,
       "version_minor": 0,
       "model_id": "863b1a28566a46f8a4aa6102b1e5a12b"
      }
     },
     "metadata": {},
     "output_type": "display_data"
    },
    {
     "data": {
      "text/plain": [
       "Calculating Metrics:   0%|          | 0/8 [00:00<?, ?it/s]"
      ],
      "application/vnd.jupyter.widget-view+json": {
       "version_major": 2,
       "version_minor": 0,
       "model_id": "6526da65c461472590280841585c091e"
      }
     },
     "metadata": {},
     "output_type": "display_data"
    },
    {
     "data": {
      "text/plain": [
       "Calculating Metrics:   0%|          | 0/6 [00:00<?, ?it/s]"
      ],
      "application/vnd.jupyter.widget-view+json": {
       "version_major": 2,
       "version_minor": 0,
       "model_id": "6e5d762275d64a26a7e425833c35e75b"
      }
     },
     "metadata": {},
     "output_type": "display_data"
    },
    {
     "data": {
      "text/plain": [
       "Calculating Metrics:   0%|          | 0/1 [00:00<?, ?it/s]"
      ],
      "application/vnd.jupyter.widget-view+json": {
       "version_major": 2,
       "version_minor": 0,
       "model_id": "8d640217d40c437ea7bc7336c1984004"
      }
     },
     "metadata": {},
     "output_type": "display_data"
    },
    {
     "data": {
      "text/plain": [
       "Calculating Metrics:   0%|          | 0/8 [00:00<?, ?it/s]"
      ],
      "application/vnd.jupyter.widget-view+json": {
       "version_major": 2,
       "version_minor": 0,
       "model_id": "340ea0e9b719448da478bc9b70c75690"
      }
     },
     "metadata": {},
     "output_type": "display_data"
    },
    {
     "data": {
      "text/plain": [
       "Calculating Metrics:   0%|          | 0/6 [00:00<?, ?it/s]"
      ],
      "application/vnd.jupyter.widget-view+json": {
       "version_major": 2,
       "version_minor": 0,
       "model_id": "e2b2d291211a46b2bc2732b2adffdd12"
      }
     },
     "metadata": {},
     "output_type": "display_data"
    },
    {
     "data": {
      "text/plain": [
       "Calculating Metrics:   0%|          | 0/8 [00:00<?, ?it/s]"
      ],
      "application/vnd.jupyter.widget-view+json": {
       "version_major": 2,
       "version_minor": 0,
       "model_id": "f35cc68c444447f5b1274cbc542da042"
      }
     },
     "metadata": {},
     "output_type": "display_data"
    },
    {
     "data": {
      "text/plain": [
       "Calculating Metrics:   0%|          | 0/4 [00:00<?, ?it/s]"
      ],
      "application/vnd.jupyter.widget-view+json": {
       "version_major": 2,
       "version_minor": 0,
       "model_id": "d35235d795ad4a478bfd68dd1624e594"
      }
     },
     "metadata": {},
     "output_type": "display_data"
    },
    {
     "data": {
      "text/plain": [
       "Calculating Metrics:   0%|          | 0/72 [00:00<?, ?it/s]"
      ],
      "application/vnd.jupyter.widget-view+json": {
       "version_major": 2,
       "version_minor": 0,
       "model_id": "a4e0ad55b56549ad841a9703ad0a96c9"
      }
     },
     "metadata": {},
     "output_type": "display_data"
    }
   ],
   "execution_count": 4
  }
 ],
 "metadata": {
  "kernelspec": {
   "display_name": "Python 3",
   "language": "python",
   "name": "python3"
  },
  "language_info": {
   "codemirror_mode": {
    "name": "ipython",
    "version": 2
   },
   "file_extension": ".py",
   "mimetype": "text/x-python",
   "name": "python",
   "nbconvert_exporter": "python",
   "pygments_lexer": "ipython2",
   "version": "2.7.6"
  }
 },
 "nbformat": 4,
 "nbformat_minor": 5
}
