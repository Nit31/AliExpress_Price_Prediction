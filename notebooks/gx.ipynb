{
 "cells": [
  {
   "cell_type": "code",
   "id": "initial_id",
   "metadata": {
    "collapsed": true,
    "ExecuteTime": {
     "end_time": "2024-06-23T14:05:42.211995Z",
     "start_time": "2024-06-23T14:05:42.208831Z"
    }
   },
   "source": [
    "import great_expectations as gx\n",
    "from great_expectations.data_context import FileDataContext\n",
    "import pandas as pd"
   ],
   "outputs": [],
   "execution_count": 17
  },
  {
   "metadata": {},
   "cell_type": "code",
   "outputs": [],
   "execution_count": null,
   "source": [
    "def handle_initial_data():\n",
    "    # remove duplicates from id\n",
    "    # cast sold to int\n",
    "    pass"
   ],
   "id": "a39500d6fe8c673d"
  },
  {
   "metadata": {
    "ExecuteTime": {
     "end_time": "2024-06-23T14:10:12.628320Z",
     "start_time": "2024-06-23T14:10:12.619245Z"
    }
   },
   "cell_type": "code",
   "source": [
    "def validate_initial_data():\n",
    "    # Create or open a data context\n",
    "    try:\n",
    "        context = gx.get_context(context_root_dir = \"../services/gx\")\n",
    "    except Exception as e:\n",
    "        context = FileDataContext(context_root_dir = \"../services/gx\")\n",
    "    \n",
    "    # Add data source and data asset\n",
    "    data_source = context.sources.add_or_update_pandas(name=\"sample\")\n",
    "    data_asset = data_source.add_csv_asset(\n",
    "        name = \"sample1\",\n",
    "        filepath_or_buffer=\"../data/samples/sample.csv\"\n",
    "    )\n",
    "    \n",
    "    # Create batch request\n",
    "    batch_request = data_asset.build_batch_request()\n",
    "    \n",
    "    # Create expectation suit\n",
    "    context.add_or_update_expectation_suite(\"expectation_suite\")\n",
    "    \n",
    "    # Verify that the expectation is created\n",
    "    # context.list_expectation_suite_names()\n",
    "    \n",
    "    # Create a validator\n",
    "    validator = context.get_validator(\n",
    "        batch_request=batch_request,\n",
    "        expectation_suite_name=\"expectation_suite\",\n",
    "    )\n",
    "    try:\n",
    "        # Add expectations on the validator\n",
    "        validator.expect_column_values_to_not_be_null(column='id')\n",
    "        validator.expect_column_values_to_be_unique(column='id')\n",
    "        validator.expect_column_values_to_be_of_type(column='id', type_='int')\n",
    "    \n",
    "        validator.expect_column_values_to_not_be_null(column='title')\n",
    "        validator.expect_column_values_to_be_of_type(column='title', type_='str')\n",
    "        validator.expect_column_proportion_of_unique_values_to_be_between(\n",
    "            column=\"title\",\n",
    "            min_value=0.7,\n",
    "            max_value=1\n",
    "        )\n",
    "        \n",
    "        validator.expect_column_values_to_not_be_null(column='lunchTime')\n",
    "        validator.expect_column_values_to_not_match_regex_list(\n",
    "            column='lunchTime',\n",
    "            regex_list=[r'^\\d{4}-\\d{2}-\\d{2} \\d{2}:\\d{2}:\\d{2}$', r'^(200[0-9]|201[0-9]|202[0-4])-\\d{2}-\\d{2} \\d{2}:\\d{2}:\\d{2}$']\n",
    "        )\n",
    "    \n",
    "        validator.expect_column_values_to_not_be_null(column='sold')\n",
    "        validator.expect_column_values_to_be_in_type_list(column='sold', type_list=['int'])\n",
    "        validator.expect_column_min_to_be_between(column='sold', min_value=0)\n",
    "        \n",
    "        validator.expect_column_values_to_not_be_null(column='rating')\n",
    "        validator.expect_column_values_to_be_of_type(column='rating', type_='float64')\n",
    "        validator.expect_column_values_to_be_between(column='rating', min_value=0, max_value=5)\n",
    "            \n",
    "        validator.expect_column_values_to_not_be_null(column='discount')\n",
    "        validator.expect_column_values_to_be_of_type(column='discount', type_='int')\n",
    "        validator.expect_column_values_to_be_between(column='discount', min_value=0, max_value=100)\n",
    "\n",
    "    \n",
    "        # Save expectation suite\n",
    "        validator.save_expectation_suite(\n",
    "            discard_failed_expectations = False\n",
    "        )\n",
    "    \n",
    "        batch_list = data_asset.get_batch_list_from_batch_request(batch_request)\n",
    "        \n",
    "        validations = [\n",
    "            {\n",
    "                \"batch_request\": batch.batch_request,\n",
    "                \"expectation_suite_name\": \"expectation_suite\"\n",
    "            }\n",
    "            for batch in batch_list\n",
    "        ]\n",
    "        checkpoint = context.add_or_update_checkpoint(\n",
    "            name=\"validator_checkpoint\",\n",
    "            validations=validations\n",
    "        )\n",
    "        \n",
    "        checkpoint_result = checkpoint.run()\n",
    "    except Exception as e:\n",
    "        print(e)\n",
    "        return False\n",
    "    \n",
    "    # Build the data docs (website files)\n",
    "    context.build_data_docs()\n",
    "    \n",
    "    # Open the data docs in a browser\n",
    "    context.open_data_docs()\n",
    "    \n",
    "    return checkpoint_result.success"
   ],
   "id": "ab9eda9a9cc5e1d6",
   "outputs": [],
   "execution_count": 37
  },
  {
   "metadata": {
    "ExecuteTime": {
     "end_time": "2024-06-23T14:10:16.489523Z",
     "start_time": "2024-06-23T14:10:13.009983Z"
    }
   },
   "cell_type": "code",
   "source": [
    "try:\n",
    "    assert validate_initial_data()\n",
    "except Exception as e:\n",
    "    handle_initial_data()\n",
    "    assert validate_initial_data()"
   ],
   "id": "bc189f4bf5129c41",
   "outputs": [
    {
     "data": {
      "text/plain": [
       "Calculating Metrics:   0%|          | 0/6 [00:00<?, ?it/s]"
      ],
      "application/vnd.jupyter.widget-view+json": {
       "version_major": 2,
       "version_minor": 0,
       "model_id": "d75fd1c3562145ae8ffd6c5cec879b0b"
      }
     },
     "metadata": {},
     "output_type": "display_data"
    },
    {
     "data": {
      "text/plain": [
       "Calculating Metrics:   0%|          | 0/8 [00:00<?, ?it/s]"
      ],
      "application/vnd.jupyter.widget-view+json": {
       "version_major": 2,
       "version_minor": 0,
       "model_id": "502375dfc6bc4ab59fd5c81a9635eb67"
      }
     },
     "metadata": {},
     "output_type": "display_data"
    },
    {
     "data": {
      "text/plain": [
       "Calculating Metrics:   0%|          | 0/1 [00:00<?, ?it/s]"
      ],
      "application/vnd.jupyter.widget-view+json": {
       "version_major": 2,
       "version_minor": 0,
       "model_id": "37d5314b717d4049b97a6f987bfc96b9"
      }
     },
     "metadata": {},
     "output_type": "display_data"
    },
    {
     "data": {
      "text/plain": [
       "Calculating Metrics:   0%|          | 0/6 [00:00<?, ?it/s]"
      ],
      "application/vnd.jupyter.widget-view+json": {
       "version_major": 2,
       "version_minor": 0,
       "model_id": "0dfb32693c864a9082cf7ce1e3a88cee"
      }
     },
     "metadata": {},
     "output_type": "display_data"
    },
    {
     "data": {
      "text/plain": [
       "Calculating Metrics:   0%|          | 0/8 [00:00<?, ?it/s]"
      ],
      "application/vnd.jupyter.widget-view+json": {
       "version_major": 2,
       "version_minor": 0,
       "model_id": "1e9d039524034546a8ebd0b97b4b65ea"
      }
     },
     "metadata": {},
     "output_type": "display_data"
    },
    {
     "data": {
      "text/plain": [
       "Calculating Metrics:   0%|          | 0/7 [00:00<?, ?it/s]"
      ],
      "application/vnd.jupyter.widget-view+json": {
       "version_major": 2,
       "version_minor": 0,
       "model_id": "e0ba0211417c4dbe923d2b3f29fa247f"
      }
     },
     "metadata": {},
     "output_type": "display_data"
    },
    {
     "data": {
      "text/plain": [
       "Calculating Metrics:   0%|          | 0/6 [00:00<?, ?it/s]"
      ],
      "application/vnd.jupyter.widget-view+json": {
       "version_major": 2,
       "version_minor": 0,
       "model_id": "ca592d4c4acb4007a15400fac7f39dc0"
      }
     },
     "metadata": {},
     "output_type": "display_data"
    },
    {
     "data": {
      "text/plain": [
       "Calculating Metrics:   0%|          | 0/8 [00:00<?, ?it/s]"
      ],
      "application/vnd.jupyter.widget-view+json": {
       "version_major": 2,
       "version_minor": 0,
       "model_id": "67f9e589eb6344d09cb87e0bc492cd01"
      }
     },
     "metadata": {},
     "output_type": "display_data"
    },
    {
     "data": {
      "text/plain": [
       "Calculating Metrics:   0%|          | 0/6 [00:00<?, ?it/s]"
      ],
      "application/vnd.jupyter.widget-view+json": {
       "version_major": 2,
       "version_minor": 0,
       "model_id": "b46381ee533045a8b7beaac529775445"
      }
     },
     "metadata": {},
     "output_type": "display_data"
    },
    {
     "data": {
      "text/plain": [
       "Calculating Metrics:   0%|          | 0/8 [00:00<?, ?it/s]"
      ],
      "application/vnd.jupyter.widget-view+json": {
       "version_major": 2,
       "version_minor": 0,
       "model_id": "c615c9b439024a1183b0abb93a3a6e48"
      }
     },
     "metadata": {},
     "output_type": "display_data"
    },
    {
     "data": {
      "text/plain": [
       "Calculating Metrics:   0%|          | 0/4 [00:00<?, ?it/s]"
      ],
      "application/vnd.jupyter.widget-view+json": {
       "version_major": 2,
       "version_minor": 0,
       "model_id": "161144df2bb149cba37ec2c630fcd605"
      }
     },
     "metadata": {},
     "output_type": "display_data"
    },
    {
     "name": "stdout",
     "output_type": "stream",
     "text": [
      "'>=' not supported between instances of 'str' and 'int'\n"
     ]
    },
    {
     "ename": "AssertionError",
     "evalue": "",
     "output_type": "error",
     "traceback": [
      "\u001B[0;31m---------------------------------------------------------------------------\u001B[0m",
      "\u001B[0;31mAssertionError\u001B[0m                            Traceback (most recent call last)",
      "Cell \u001B[0;32mIn[38], line 1\u001B[0m\n\u001B[0;32m----> 1\u001B[0m \u001B[38;5;28;01massert\u001B[39;00m validate_initial_data()\n",
      "\u001B[0;31mAssertionError\u001B[0m: "
     ]
    }
   ],
   "execution_count": 38
  }
 ],
 "metadata": {
  "kernelspec": {
   "display_name": "Python 3",
   "language": "python",
   "name": "python3"
  },
  "language_info": {
   "codemirror_mode": {
    "name": "ipython",
    "version": 2
   },
   "file_extension": ".py",
   "mimetype": "text/x-python",
   "name": "python",
   "nbconvert_exporter": "python",
   "pygments_lexer": "ipython2",
   "version": "2.7.6"
  }
 },
 "nbformat": 4,
 "nbformat_minor": 5
}
